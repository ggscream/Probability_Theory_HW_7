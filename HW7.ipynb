{
 "cells": [
  {
   "attachments": {},
   "cell_type": "markdown",
   "metadata": {},
   "source": [
    "**1. Даны две  независимые выборки. Не соблюдается условие нормальности.**\n",
    "\n",
    "**x1  380,420, 290**\n",
    "\n",
    "**y1 140,360,200,900**\n",
    "\n",
    "**Сделайте вывод по результатам, полученным с помощью функции**"
   ]
  },
  {
   "cell_type": "code",
   "execution_count": 1,
   "metadata": {},
   "outputs": [
    {
     "data": {
      "text/plain": [
       "MannwhitneyuResult(statistic=8.0, pvalue=0.6285714285714286)"
      ]
     },
     "execution_count": 1,
     "metadata": {},
     "output_type": "execute_result"
    }
   ],
   "source": [
    "#критерий Манна-Уитни\n",
    "\n",
    "import numpy as np\n",
    "import scipy.stats as stats\n",
    "x1 = np.array([380,420,290])\n",
    "y1 = np.array([140,360,200,900])\n",
    "stats.mannwhitneyu(x1,y1)"
   ]
  },
  {
   "attachments": {},
   "cell_type": "markdown",
   "metadata": {},
   "source": [
    "Pvalue > alpha, принимаем нулевую гипотезу. В выборках нет статистически значимых различий"
   ]
  },
  {
   "attachments": {},
   "cell_type": "markdown",
   "metadata": {},
   "source": [
    "**2. Исследовалось влияние препарата на уровень давления пациентов. Сначала измерялось давление до приема препарата, потом через 10 минут и через 30 минут. Есть ли статистически значимые различия?**\n",
    "\n",
    "**1е измерение до приема препарата: 150, 160, 165, 145, 155**\n",
    "\n",
    "**2е измерение через 10 минут: 140, 155, 150,  130, 135**\n",
    "\n",
    "**3е измерение через 30 минут: 130, 130, 120, 130, 125**"
   ]
  },
  {
   "cell_type": "code",
   "execution_count": 2,
   "metadata": {},
   "outputs": [
    {
     "data": {
      "text/plain": [
       "FriedmanchisquareResult(statistic=9.578947368421062, pvalue=0.00831683351100441)"
      ]
     },
     "execution_count": 2,
     "metadata": {},
     "output_type": "execute_result"
    }
   ],
   "source": [
    "#критерий Фридмана\n",
    "\n",
    "import numpy as np\n",
    "import scipy.stats as stats\n",
    "x1 = np.array([150, 160, 165, 145, 155])\n",
    "x2 = np.array([140, 155, 150, 130, 135])\n",
    "x3 = np.array([130, 130, 120, 130, 125])\n",
    "stats.friedmanchisquare(x1,x2,x3)"
   ]
  },
  {
   "attachments": {},
   "cell_type": "markdown",
   "metadata": {},
   "source": [
    "С вероятностью 0.99 есть статистически значимые различия."
   ]
  },
  {
   "attachments": {},
   "cell_type": "markdown",
   "metadata": {},
   "source": [
    "**3. Сравните 1 и 2 е измерения, предполагая, что 3го измерения через 30 минут не было.**"
   ]
  },
  {
   "cell_type": "code",
   "execution_count": 3,
   "metadata": {},
   "outputs": [
    {
     "data": {
      "text/plain": [
       "WilcoxonResult(statistic=0.0, pvalue=0.0625)"
      ]
     },
     "execution_count": 3,
     "metadata": {},
     "output_type": "execute_result"
    }
   ],
   "source": [
    "#критерий Уилкоксона\n",
    "\n",
    "\n",
    "import numpy as np\n",
    "import scipy.stats as stats\n",
    "x1 = np.array([150, 160, 165, 145, 155])\n",
    "x2 = np.array([140, 155, 150, 130, 135])\n",
    "stats.wilcoxon(x1,x2)"
   ]
  },
  {
   "attachments": {},
   "cell_type": "markdown",
   "metadata": {},
   "source": [
    "При α = 0.0625 и выше принимается альтернативная гипотеза: статистически значимые различия есть, при α < 0.0625 принимается нулевая гипотеза: статистически значимых различий нет."
   ]
  },
  {
   "attachments": {},
   "cell_type": "markdown",
   "metadata": {},
   "source": [
    "**4. Даны 3 группы  учеников плавания. В 1 группе время на дистанцию 50 м составляют:**\n",
    "\n",
    "**56, 60, 62, 55, 71, 67, 59, 58, 64, 67**\n",
    "\n",
    "**Вторая группа : 57, 58, 69, 48, 72, 70, 68, 71, 50, 53**\n",
    "\n",
    "**Третья группа: 57, 67, 49, 48, 47, 55, 66, 51, 54**\n",
    "\n",
    "**Проверить, есть ли различия между группами**"
   ]
  },
  {
   "cell_type": "code",
   "execution_count": 4,
   "metadata": {},
   "outputs": [
    {
     "data": {
      "text/plain": [
       "KruskalResult(statistic=5.465564058257224, pvalue=0.0650380998590494)"
      ]
     },
     "execution_count": 4,
     "metadata": {},
     "output_type": "execute_result"
    }
   ],
   "source": [
    "#критерий Крускала - Уоллиса\n",
    "\n",
    "\n",
    "import numpy as np\n",
    "import scipy.stats as stats\n",
    "gr_1 = np.array([56, 60, 62, 55, 71, 67, 59, 58, 64, 67])\n",
    "gr_2 = np.array([57, 58, 69, 48, 72, 70, 68, 71, 50, 53])\n",
    "gr_3 = np.array([57, 67, 49, 48, 47, 55, 66, 51, 54])\n",
    "stats.kruskal(gr_1,gr_2,gr_3)"
   ]
  },
  {
   "attachments": {},
   "cell_type": "markdown",
   "metadata": {},
   "source": [
    "При α > 0.065 принимается альтернативная гипотеза: статистически значимые различия есть, при α < 0.065 принимается нулевая гипотеза: статистически значимых различий а в результатах разных групп нет."
   ]
  },
  {
   "attachments": {},
   "cell_type": "markdown",
   "metadata": {},
   "source": [
    "**5. Заявляется, что партия изготавливается со средним арифметическим 2,5 см. Проверить данную гипотезу, если известно, что размеры изделий подчинены нормальному закону распределения.**\n",
    "\n",
    "**бъем выборки 10, уровень статистической значимости 5%**\n",
    "\n",
    "**2.51, 2.35, 2.74, 2.56, 2.40, 2.36, 2.65, 2.7, 2.67, 2.34**"
   ]
  },
  {
   "cell_type": "code",
   "execution_count": 5,
   "metadata": {},
   "outputs": [
    {
     "name": "stdout",
     "output_type": "stream",
     "text": [
      "0.5630613661802959\n"
     ]
    }
   ],
   "source": [
    "n = 10\n",
    "x = [2.51, 2.35, 2.74, 2.56, 2.40, 2.36, 2.65, 2.7, 2.67, 2.34]\n",
    "m = 2.5\n",
    "average = sum(x) / len(x)\n",
    "sigma_n = 0\n",
    "for i in x:\n",
    "  sigma_n += (i - average) * (i - average)\n",
    "sigma_n = pow(sigma_n / (n-1), 0.5)\n",
    "t_n = (average - m) / (sigma_n / pow(n, 0.5))\n",
    "\n",
    "print(t_n)"
   ]
  },
  {
   "attachments": {},
   "cell_type": "markdown",
   "metadata": {},
   "source": [
    "t табличное для 9 степеней свободы и вероятности 0,975 = 2,262. Так как t наблюдаемое больше t табличного, с вероятностью 0,975 верна альтернативная гипотеза. Среднее арифметическое не равно 2,5 см."
   ]
  }
 ],
 "metadata": {
  "kernelspec": {
   "display_name": "Python 3",
   "language": "python",
   "name": "python3"
  },
  "language_info": {
   "codemirror_mode": {
    "name": "ipython",
    "version": 3
   },
   "file_extension": ".py",
   "mimetype": "text/x-python",
   "name": "python",
   "nbconvert_exporter": "python",
   "pygments_lexer": "ipython3",
   "version": "3.8.2"
  },
  "orig_nbformat": 4,
  "vscode": {
   "interpreter": {
    "hash": "31f2aee4e71d21fbe5cf8b01ff0e069b9275f58929596ceb00d14d90e3e16cd6"
   }
  }
 },
 "nbformat": 4,
 "nbformat_minor": 2
}
